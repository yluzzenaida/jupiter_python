{
 "cells": [
  {
   "cell_type": "code",
   "execution_count": 5,
   "id": "83fc40e9",
   "metadata": {},
   "outputs": [],
   "source": [
    "import pandas as pd"
   ]
  },
  {
   "cell_type": "code",
   "execution_count": 6,
   "id": "e76edde3",
   "metadata": {},
   "outputs": [],
   "source": [
    "import numpy as np"
   ]
  },
  {
   "cell_type": "code",
   "execution_count": 7,
   "id": "d73c0a9b",
   "metadata": {},
   "outputs": [],
   "source": [
    "import matplotlib.pyplot as plt"
   ]
  },
  {
   "cell_type": "code",
   "execution_count": 8,
   "id": "db090eae",
   "metadata": {},
   "outputs": [],
   "source": [
    "from sklearn import linear_model"
   ]
  },
  {
   "cell_type": "code",
   "execution_count": 9,
   "id": "f63acc05",
   "metadata": {},
   "outputs": [
    {
     "data": {
      "text/html": [
       "<div>\n",
       "<style scoped>\n",
       "    .dataframe tbody tr th:only-of-type {\n",
       "        vertical-align: middle;\n",
       "    }\n",
       "\n",
       "    .dataframe tbody tr th {\n",
       "        vertical-align: top;\n",
       "    }\n",
       "\n",
       "    .dataframe thead th {\n",
       "        text-align: right;\n",
       "    }\n",
       "</style>\n",
       "<table border=\"1\" class=\"dataframe\">\n",
       "  <thead>\n",
       "    <tr style=\"text-align: right;\">\n",
       "      <th></th>\n",
       "      <th>TOWN</th>\n",
       "      <th>LON</th>\n",
       "      <th>LAT</th>\n",
       "      <th>MEDV</th>\n",
       "      <th>CRIM</th>\n",
       "      <th>ZN</th>\n",
       "      <th>INDUS</th>\n",
       "      <th>CHAS</th>\n",
       "      <th>NOX</th>\n",
       "      <th>RM</th>\n",
       "      <th>AGE</th>\n",
       "      <th>DIS</th>\n",
       "      <th>RAD</th>\n",
       "      <th>TAX</th>\n",
       "      <th>PTRATIO</th>\n",
       "      <th>B</th>\n",
       "      <th>LSTAT</th>\n",
       "    </tr>\n",
       "  </thead>\n",
       "  <tbody>\n",
       "    <tr>\n",
       "      <th>0</th>\n",
       "      <td>Nahant</td>\n",
       "      <td>-70.9550</td>\n",
       "      <td>42.2550</td>\n",
       "      <td>24.0</td>\n",
       "      <td>0.00632</td>\n",
       "      <td>18.0</td>\n",
       "      <td>2.31</td>\n",
       "      <td>0</td>\n",
       "      <td>0.538</td>\n",
       "      <td>6.575</td>\n",
       "      <td>65.2</td>\n",
       "      <td>4.0900</td>\n",
       "      <td>1</td>\n",
       "      <td>296</td>\n",
       "      <td>15.3</td>\n",
       "      <td>396.90</td>\n",
       "      <td>4.98</td>\n",
       "    </tr>\n",
       "    <tr>\n",
       "      <th>1</th>\n",
       "      <td>Swampscott</td>\n",
       "      <td>-70.9500</td>\n",
       "      <td>42.2875</td>\n",
       "      <td>21.6</td>\n",
       "      <td>0.02731</td>\n",
       "      <td>0.0</td>\n",
       "      <td>7.07</td>\n",
       "      <td>0</td>\n",
       "      <td>0.469</td>\n",
       "      <td>6.421</td>\n",
       "      <td>78.9</td>\n",
       "      <td>4.9671</td>\n",
       "      <td>2</td>\n",
       "      <td>242</td>\n",
       "      <td>17.8</td>\n",
       "      <td>396.90</td>\n",
       "      <td>9.14</td>\n",
       "    </tr>\n",
       "    <tr>\n",
       "      <th>2</th>\n",
       "      <td>Swampscott</td>\n",
       "      <td>-70.9360</td>\n",
       "      <td>42.2830</td>\n",
       "      <td>34.7</td>\n",
       "      <td>0.02729</td>\n",
       "      <td>0.0</td>\n",
       "      <td>7.07</td>\n",
       "      <td>0</td>\n",
       "      <td>0.469</td>\n",
       "      <td>7.185</td>\n",
       "      <td>61.1</td>\n",
       "      <td>4.9671</td>\n",
       "      <td>2</td>\n",
       "      <td>242</td>\n",
       "      <td>17.8</td>\n",
       "      <td>392.83</td>\n",
       "      <td>4.03</td>\n",
       "    </tr>\n",
       "    <tr>\n",
       "      <th>3</th>\n",
       "      <td>Marblehead</td>\n",
       "      <td>-70.9280</td>\n",
       "      <td>42.2930</td>\n",
       "      <td>33.4</td>\n",
       "      <td>0.03237</td>\n",
       "      <td>0.0</td>\n",
       "      <td>2.18</td>\n",
       "      <td>0</td>\n",
       "      <td>0.458</td>\n",
       "      <td>6.998</td>\n",
       "      <td>45.8</td>\n",
       "      <td>6.0622</td>\n",
       "      <td>3</td>\n",
       "      <td>222</td>\n",
       "      <td>18.7</td>\n",
       "      <td>394.63</td>\n",
       "      <td>2.94</td>\n",
       "    </tr>\n",
       "    <tr>\n",
       "      <th>4</th>\n",
       "      <td>Marblehead</td>\n",
       "      <td>-70.9220</td>\n",
       "      <td>42.2980</td>\n",
       "      <td>36.2</td>\n",
       "      <td>0.06905</td>\n",
       "      <td>0.0</td>\n",
       "      <td>2.18</td>\n",
       "      <td>0</td>\n",
       "      <td>0.458</td>\n",
       "      <td>7.147</td>\n",
       "      <td>54.2</td>\n",
       "      <td>6.0622</td>\n",
       "      <td>3</td>\n",
       "      <td>222</td>\n",
       "      <td>18.7</td>\n",
       "      <td>396.90</td>\n",
       "      <td>5.33</td>\n",
       "    </tr>\n",
       "    <tr>\n",
       "      <th>...</th>\n",
       "      <td>...</td>\n",
       "      <td>...</td>\n",
       "      <td>...</td>\n",
       "      <td>...</td>\n",
       "      <td>...</td>\n",
       "      <td>...</td>\n",
       "      <td>...</td>\n",
       "      <td>...</td>\n",
       "      <td>...</td>\n",
       "      <td>...</td>\n",
       "      <td>...</td>\n",
       "      <td>...</td>\n",
       "      <td>...</td>\n",
       "      <td>...</td>\n",
       "      <td>...</td>\n",
       "      <td>...</td>\n",
       "      <td>...</td>\n",
       "    </tr>\n",
       "    <tr>\n",
       "      <th>501</th>\n",
       "      <td>Winthrop</td>\n",
       "      <td>-70.9860</td>\n",
       "      <td>42.2312</td>\n",
       "      <td>22.4</td>\n",
       "      <td>0.06263</td>\n",
       "      <td>0.0</td>\n",
       "      <td>11.93</td>\n",
       "      <td>0</td>\n",
       "      <td>0.573</td>\n",
       "      <td>6.593</td>\n",
       "      <td>69.1</td>\n",
       "      <td>2.4786</td>\n",
       "      <td>1</td>\n",
       "      <td>273</td>\n",
       "      <td>21.0</td>\n",
       "      <td>391.99</td>\n",
       "      <td>9.67</td>\n",
       "    </tr>\n",
       "    <tr>\n",
       "      <th>502</th>\n",
       "      <td>Winthrop</td>\n",
       "      <td>-70.9910</td>\n",
       "      <td>42.2275</td>\n",
       "      <td>20.6</td>\n",
       "      <td>0.04527</td>\n",
       "      <td>0.0</td>\n",
       "      <td>11.93</td>\n",
       "      <td>0</td>\n",
       "      <td>0.573</td>\n",
       "      <td>6.120</td>\n",
       "      <td>76.7</td>\n",
       "      <td>2.2875</td>\n",
       "      <td>1</td>\n",
       "      <td>273</td>\n",
       "      <td>21.0</td>\n",
       "      <td>396.90</td>\n",
       "      <td>9.08</td>\n",
       "    </tr>\n",
       "    <tr>\n",
       "      <th>503</th>\n",
       "      <td>Winthrop</td>\n",
       "      <td>-70.9948</td>\n",
       "      <td>42.2260</td>\n",
       "      <td>23.9</td>\n",
       "      <td>0.06076</td>\n",
       "      <td>0.0</td>\n",
       "      <td>11.93</td>\n",
       "      <td>0</td>\n",
       "      <td>0.573</td>\n",
       "      <td>6.976</td>\n",
       "      <td>91.0</td>\n",
       "      <td>2.1675</td>\n",
       "      <td>1</td>\n",
       "      <td>273</td>\n",
       "      <td>21.0</td>\n",
       "      <td>396.90</td>\n",
       "      <td>5.64</td>\n",
       "    </tr>\n",
       "    <tr>\n",
       "      <th>504</th>\n",
       "      <td>Winthrop</td>\n",
       "      <td>-70.9875</td>\n",
       "      <td>42.2240</td>\n",
       "      <td>22.0</td>\n",
       "      <td>0.10959</td>\n",
       "      <td>0.0</td>\n",
       "      <td>11.93</td>\n",
       "      <td>0</td>\n",
       "      <td>0.573</td>\n",
       "      <td>6.794</td>\n",
       "      <td>89.3</td>\n",
       "      <td>2.3889</td>\n",
       "      <td>1</td>\n",
       "      <td>273</td>\n",
       "      <td>21.0</td>\n",
       "      <td>393.45</td>\n",
       "      <td>6.48</td>\n",
       "    </tr>\n",
       "    <tr>\n",
       "      <th>505</th>\n",
       "      <td>Winthrop</td>\n",
       "      <td>-70.9825</td>\n",
       "      <td>42.2210</td>\n",
       "      <td>19.0</td>\n",
       "      <td>0.04741</td>\n",
       "      <td>0.0</td>\n",
       "      <td>11.93</td>\n",
       "      <td>0</td>\n",
       "      <td>0.573</td>\n",
       "      <td>6.030</td>\n",
       "      <td>80.8</td>\n",
       "      <td>2.5050</td>\n",
       "      <td>1</td>\n",
       "      <td>273</td>\n",
       "      <td>21.0</td>\n",
       "      <td>396.90</td>\n",
       "      <td>7.88</td>\n",
       "    </tr>\n",
       "  </tbody>\n",
       "</table>\n",
       "<p>506 rows × 17 columns</p>\n",
       "</div>"
      ],
      "text/plain": [
       "           TOWN      LON      LAT  MEDV     CRIM    ZN  INDUS  CHAS    NOX  \\\n",
       "0        Nahant -70.9550  42.2550  24.0  0.00632  18.0   2.31     0  0.538   \n",
       "1    Swampscott -70.9500  42.2875  21.6  0.02731   0.0   7.07     0  0.469   \n",
       "2    Swampscott -70.9360  42.2830  34.7  0.02729   0.0   7.07     0  0.469   \n",
       "3    Marblehead -70.9280  42.2930  33.4  0.03237   0.0   2.18     0  0.458   \n",
       "4    Marblehead -70.9220  42.2980  36.2  0.06905   0.0   2.18     0  0.458   \n",
       "..          ...      ...      ...   ...      ...   ...    ...   ...    ...   \n",
       "501    Winthrop -70.9860  42.2312  22.4  0.06263   0.0  11.93     0  0.573   \n",
       "502    Winthrop -70.9910  42.2275  20.6  0.04527   0.0  11.93     0  0.573   \n",
       "503    Winthrop -70.9948  42.2260  23.9  0.06076   0.0  11.93     0  0.573   \n",
       "504    Winthrop -70.9875  42.2240  22.0  0.10959   0.0  11.93     0  0.573   \n",
       "505    Winthrop -70.9825  42.2210  19.0  0.04741   0.0  11.93     0  0.573   \n",
       "\n",
       "        RM   AGE     DIS  RAD  TAX  PTRATIO       B  LSTAT  \n",
       "0    6.575  65.2  4.0900    1  296     15.3  396.90   4.98  \n",
       "1    6.421  78.9  4.9671    2  242     17.8  396.90   9.14  \n",
       "2    7.185  61.1  4.9671    2  242     17.8  392.83   4.03  \n",
       "3    6.998  45.8  6.0622    3  222     18.7  394.63   2.94  \n",
       "4    7.147  54.2  6.0622    3  222     18.7  396.90   5.33  \n",
       "..     ...   ...     ...  ...  ...      ...     ...    ...  \n",
       "501  6.593  69.1  2.4786    1  273     21.0  391.99   9.67  \n",
       "502  6.120  76.7  2.2875    1  273     21.0  396.90   9.08  \n",
       "503  6.976  91.0  2.1675    1  273     21.0  396.90   5.64  \n",
       "504  6.794  89.3  2.3889    1  273     21.0  393.45   6.48  \n",
       "505  6.030  80.8  2.5050    1  273     21.0  396.90   7.88  \n",
       "\n",
       "[506 rows x 17 columns]"
      ]
     },
     "execution_count": 9,
     "metadata": {},
     "output_type": "execute_result"
    }
   ],
   "source": [
    "df = pd.read_csv(\"DatosSoft.csv\",sep=\";\")\n",
    "df"
   ]
  },
  {
   "cell_type": "code",
   "execution_count": 10,
   "id": "ceaa5feb",
   "metadata": {},
   "outputs": [
    {
     "data": {
      "text/plain": [
       "LinearRegression()"
      ]
     },
     "execution_count": 10,
     "metadata": {},
     "output_type": "execute_result"
    }
   ],
   "source": [
    "RegMultiple = linear_model.LinearRegression()\n",
    "RegMultiple.fit(df[['CRIM','ZN','INDUS','CHAS','NOX','RM','AGE','DIS','RAD','TAX','PTRATIO','B','LSTAT']],df.MEDV)"
   ]
  },
  {
   "cell_type": "code",
   "execution_count": 11,
   "id": "7f1d3194",
   "metadata": {},
   "outputs": [
    {
     "data": {
      "text/plain": [
       "array([-1.06200361e-01,  4.77236832e-02,  2.32523719e-02,  2.69172651e+00,\n",
       "       -1.77426230e+01,  3.78939460e+00,  5.74916809e-04, -1.50179444e+00,\n",
       "        3.03760645e-01, -1.27046249e-02, -9.23911777e-01,  9.22844499e-03,\n",
       "       -5.30661946e-01])"
      ]
     },
     "execution_count": 11,
     "metadata": {},
     "output_type": "execute_result"
    }
   ],
   "source": [
    "RegMultiple.coef_"
   ]
  },
  {
   "cell_type": "code",
   "execution_count": 12,
   "id": "a618311f",
   "metadata": {},
   "outputs": [
    {
     "data": {
      "text/plain": [
       "36.371891589434824"
      ]
     },
     "execution_count": 12,
     "metadata": {},
     "output_type": "execute_result"
    }
   ],
   "source": [
    "RegMultiple.intercept_"
   ]
  },
  {
   "cell_type": "code",
   "execution_count": 13,
   "id": "d3fa658b",
   "metadata": {},
   "outputs": [
    {
     "data": {
      "text/plain": [
       "array([32.24811474])"
      ]
     },
     "execution_count": 13,
     "metadata": {},
     "output_type": "execute_result"
    }
   ],
   "source": [
    "RegMultiple.predict([[0.02612,15.0,6.08,0,0.320,5.000,66.1,3.0500,4,300,14.2,395.00,3.08]])"
   ]
  },
  {
   "cell_type": "code",
   "execution_count": 14,
   "id": "985d18ef",
   "metadata": {},
   "outputs": [
    {
     "data": {
      "text/plain": [
       "0.8762231687675794"
      ]
     },
     "execution_count": 14,
     "metadata": {},
     "output_type": "execute_result"
    }
   ],
   "source": [
    "5.000+-1.06200361e-01*0.02612+4.77236832e-02*15.0+2.32523719e-02*6.08+2.69172651e+00*0+-1.77426230e+01*0.320+3.78939460e+00*5.000+5.74916809e-04*66.1+-1.50179444e+00*3.0500+ 3.03760645e-01*4+-1.27046249e-02*300+-9.23911777e-01*14.2+9.22844499e-03*395.00+-5.30661946e-01*3.08"
   ]
  },
  {
   "cell_type": "code",
   "execution_count": 15,
   "id": "b4fa6f3e",
   "metadata": {},
   "outputs": [],
   "source": [
    "import pickle"
   ]
  },
  {
   "cell_type": "code",
   "execution_count": 18,
   "id": "8291b402",
   "metadata": {},
   "outputs": [],
   "source": [
    "with open('RegMultiple_pickle','wb') as f:\n",
    "    pickle.dump(RegMultiple,f)"
   ]
  },
  {
   "cell_type": "code",
   "execution_count": 19,
   "id": "9d7734c3",
   "metadata": {},
   "outputs": [],
   "source": [
    "with open('RegMultiple_pickle','rb') as f:\n",
    "    mp = pickle.load(f)"
   ]
  },
  {
   "cell_type": "code",
   "execution_count": 20,
   "id": "06bcc912",
   "metadata": {},
   "outputs": [
    {
     "data": {
      "text/plain": [
       "array([32.24811474])"
      ]
     },
     "execution_count": 20,
     "metadata": {},
     "output_type": "execute_result"
    }
   ],
   "source": [
    "mp.predict([[0.02612,15.0,6.08,0,0.320,5.000,66.1,3.0500,4,300,14.2,395.00,3.08]])"
   ]
  },
  {
   "cell_type": "code",
   "execution_count": 21,
   "id": "9fb740c3",
   "metadata": {},
   "outputs": [],
   "source": [
    "import joblib"
   ]
  },
  {
   "cell_type": "code",
   "execution_count": 22,
   "id": "6443f1ca",
   "metadata": {},
   "outputs": [
    {
     "data": {
      "text/plain": [
       "['RegMultiple_joblib']"
      ]
     },
     "execution_count": 22,
     "metadata": {},
     "output_type": "execute_result"
    }
   ],
   "source": [
    "joblib.dump(RegMultiple,'RegMultiple_joblib')"
   ]
  },
  {
   "cell_type": "code",
   "execution_count": 23,
   "id": "8e8c2e20",
   "metadata": {},
   "outputs": [],
   "source": [
    "mj = joblib.load('RegMultiple_joblib')"
   ]
  },
  {
   "cell_type": "code",
   "execution_count": 24,
   "id": "c990114f",
   "metadata": {},
   "outputs": [
    {
     "data": {
      "text/plain": [
       "array([32.24811474])"
      ]
     },
     "execution_count": 24,
     "metadata": {},
     "output_type": "execute_result"
    }
   ],
   "source": [
    "mj.predict([[0.02612,15.0,6.08,0,0.320,5.000,66.1,3.0500,4,300,14.2,395.00,3.08]])"
   ]
  },
  {
   "cell_type": "code",
   "execution_count": 25,
   "id": "f6c524da",
   "metadata": {},
   "outputs": [
    {
     "data": {
      "text/plain": [
       "array([-1.06200361e-01,  4.77236832e-02,  2.32523719e-02,  2.69172651e+00,\n",
       "       -1.77426230e+01,  3.78939460e+00,  5.74916809e-04, -1.50179444e+00,\n",
       "        3.03760645e-01, -1.27046249e-02, -9.23911777e-01,  9.22844499e-03,\n",
       "       -5.30661946e-01])"
      ]
     },
     "execution_count": 25,
     "metadata": {},
     "output_type": "execute_result"
    }
   ],
   "source": [
    "mj.coef_"
   ]
  },
  {
   "cell_type": "code",
   "execution_count": 26,
   "id": "de4cfdff",
   "metadata": {},
   "outputs": [
    {
     "data": {
      "text/plain": [
       "36.371891589434824"
      ]
     },
     "execution_count": 26,
     "metadata": {},
     "output_type": "execute_result"
    }
   ],
   "source": [
    "mj.intercept_"
   ]
  },
  {
   "cell_type": "code",
   "execution_count": null,
   "id": "a6b307c4",
   "metadata": {},
   "outputs": [],
   "source": []
  }
 ],
 "metadata": {
  "kernelspec": {
   "display_name": "Python 3",
   "language": "python",
   "name": "python3"
  },
  "language_info": {
   "codemirror_mode": {
    "name": "ipython",
    "version": 3
   },
   "file_extension": ".py",
   "mimetype": "text/x-python",
   "name": "python",
   "nbconvert_exporter": "python",
   "pygments_lexer": "ipython3",
   "version": "3.8.8"
  }
 },
 "nbformat": 4,
 "nbformat_minor": 5
}
